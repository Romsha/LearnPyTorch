{
 "cells": [
  {
   "cell_type": "code",
   "execution_count": 2,
   "id": "d9c5e751-b5ce-4da4-80ff-f8a8aba1137d",
   "metadata": {},
   "outputs": [],
   "source": [
    "import torch\n",
    "import pandas as pd\n",
    "import numpy as np\n",
    "import matplotlib.pyplot as plt"
   ]
  },
  {
   "cell_type": "code",
   "execution_count": 3,
   "id": "cb307466-4df0-4fc0-a150-6bfe8ba98392",
   "metadata": {},
   "outputs": [
    {
     "name": "stdout",
     "output_type": "stream",
     "text": [
      "2.2.1\n"
     ]
    }
   ],
   "source": [
    "print(torch.__version__)"
   ]
  },
  {
   "cell_type": "code",
   "execution_count": 4,
   "id": "b37188f5-32e5-4c5e-9b2b-0722a47cb50d",
   "metadata": {},
   "outputs": [
    {
     "data": {
      "text/plain": [
       "tensor(7)"
      ]
     },
     "execution_count": 4,
     "metadata": {},
     "output_type": "execute_result"
    }
   ],
   "source": [
    "scalar = torch.tensor(7)\n",
    "scalar"
   ]
  },
  {
   "cell_type": "code",
   "execution_count": 5,
   "id": "4dee2cc4-f0d5-4c83-98dd-907605059644",
   "metadata": {},
   "outputs": [
    {
     "data": {
      "text/plain": [
       "7"
      ]
     },
     "execution_count": 5,
     "metadata": {},
     "output_type": "execute_result"
    }
   ],
   "source": [
    "scalar.dim() == scalar.ndim == scalar.ndimension()\n",
    "scalar.item()"
   ]
  },
  {
   "cell_type": "code",
   "execution_count": 6,
   "id": "aebad55b-668d-4ec7-ab7c-ef3cd7be0ceb",
   "metadata": {},
   "outputs": [
    {
     "data": {
      "text/plain": [
       "1"
      ]
     },
     "execution_count": 6,
     "metadata": {},
     "output_type": "execute_result"
    }
   ],
   "source": [
    "vector = torch.tensor([5,1])\n",
    "vector.ndim"
   ]
  },
  {
   "cell_type": "code",
   "execution_count": 7,
   "id": "818d5bad-786f-4236-88c6-d6bbdca5ad8b",
   "metadata": {},
   "outputs": [
    {
     "data": {
      "text/plain": [
       "torch.Size([2])"
      ]
     },
     "execution_count": 7,
     "metadata": {},
     "output_type": "execute_result"
    }
   ],
   "source": [
    "vector.shape"
   ]
  },
  {
   "cell_type": "code",
   "execution_count": 8,
   "id": "24035298-9370-4622-a61c-4db0f1f222e4",
   "metadata": {},
   "outputs": [
    {
     "data": {
      "text/plain": [
       "2"
      ]
     },
     "execution_count": 8,
     "metadata": {},
     "output_type": "execute_result"
    }
   ],
   "source": [
    "MATRIX = torch.tensor([[1,2], [3,4]])\n",
    "MATRIX.ndim"
   ]
  },
  {
   "cell_type": "code",
   "execution_count": 9,
   "id": "15949155-00cc-4ab6-9424-36fed9df2f18",
   "metadata": {},
   "outputs": [
    {
     "data": {
      "text/plain": [
       "torch.Size([2, 2])"
      ]
     },
     "execution_count": 9,
     "metadata": {},
     "output_type": "execute_result"
    }
   ],
   "source": [
    "MATRIX.shape"
   ]
  },
  {
   "cell_type": "code",
   "execution_count": 10,
   "id": "ef65d027-162a-44f0-b156-d1c1791e22a3",
   "metadata": {},
   "outputs": [
    {
     "data": {
      "text/plain": [
       "3"
      ]
     },
     "execution_count": 10,
     "metadata": {},
     "output_type": "execute_result"
    }
   ],
   "source": [
    "TENSOR = torch.tensor([[[1,1,3], [2,2,3]]])\n",
    "TENSOR.ndim"
   ]
  },
  {
   "cell_type": "code",
   "execution_count": 11,
   "id": "9814debd-0fa6-4731-932a-4af4b1ee8685",
   "metadata": {},
   "outputs": [
    {
     "data": {
      "text/plain": [
       "torch.Size([1, 2, 3])"
      ]
     },
     "execution_count": 11,
     "metadata": {},
     "output_type": "execute_result"
    }
   ],
   "source": [
    "TENSOR.shape"
   ]
  },
  {
   "cell_type": "code",
   "execution_count": 12,
   "id": "3b5ebe1b-3a1a-4778-9614-549ec5211a0f",
   "metadata": {},
   "outputs": [
    {
     "data": {
      "text/plain": [
       "tensor([[0.1809, 0.7278, 0.5799, 0.4132],\n",
       "        [0.7993, 0.6162, 0.6212, 0.7099],\n",
       "        [0.4793, 0.8523, 0.6585, 0.0811]])"
      ]
     },
     "execution_count": 12,
     "metadata": {},
     "output_type": "execute_result"
    }
   ],
   "source": [
    "torch.rand(3,4)"
   ]
  },
  {
   "cell_type": "code",
   "execution_count": 13,
   "id": "10bc713b-de99-4d22-a3d3-a5b437984560",
   "metadata": {},
   "outputs": [
    {
     "data": {
      "text/plain": [
       "<matplotlib.image.AxesImage at 0x13f9afbe0>"
      ]
     },
     "execution_count": 13,
     "metadata": {},
     "output_type": "execute_result"
    },
    {
     "data": {
      "image/png": "[encoded data removed]",
      "text/plain": [
       "<Figure size 640x480 with 1 Axes>"
      ]
     },
     "metadata": {},
     "output_type": "display_data"
    }
   ],
   "source": [
    "random_image = torch.rand(size=(10,10,3))\n",
    "plt.imshow(random_image)"
   ]
  },
  {
   "cell_type": "code",
   "execution_count": 14,
   "id": "3a66a7d9-10ae-4e4f-b993-bf9846de8b7a",
   "metadata": {},
   "outputs": [
    {
     "data": {
      "text/plain": [
       "<matplotlib.image.AxesImage at 0x13faf6850>"
      ]
     },
     "execution_count": 14,
     "metadata": {},
     "output_type": "execute_result"
    },
    {
     "data": {
      "image/png": "[encoded data removed]",
      "text/plain": [
       "<Figure size 640x480 with 1 Axes>"
      ]
     },
     "metadata": {},
     "output_type": "display_data"
    }
   ],
   "source": [
    "zeros = torch.zeros(size=random_image.size()) # can also do torch.ones\n",
    "plt.imshow(random_image*zeros)"
   ]
  },
  {
   "cell_type": "code",
   "execution_count": 15,
   "id": "8f756b8c-ab14-410e-8355-eb4d4e12d071",
   "metadata": {},
   "outputs": [
    {
     "data": {
      "text/plain": [
       "tensor([0, 0, 0, 0, 0, 0, 0, 0, 0, 0])"
      ]
     },
     "execution_count": 15,
     "metadata": {},
     "output_type": "execute_result"
    }
   ],
   "source": [
    "ten = torch.arange(0,10)\n",
    "torch.zeros_like(ten)"
   ]
  },
  {
   "cell_type": "code",
   "execution_count": 21,
   "id": "164f11dd-1563-490b-ac6b-94b9059f602c",
   "metadata": {},
   "outputs": [
    {
     "name": "stdout",
     "output_type": "stream",
     "text": [
      "tensor([11, 12, 13])\n",
      "tensor([10, 20, 30])\n",
      "tensor([0.2000, 0.4000, 0.6000])\n"
     ]
    }
   ],
   "source": [
    "t = torch.tensor([1,2,3])\n",
    "print(t + 10)\n",
    "print(t * 10)\n",
    "print(torch.div(t, 5)) # same as t / 5"
   ]
  },
  {
   "cell_type": "code",
   "execution_count": 70,
   "id": "0003de92-51ef-44ce-b382-aecaf6095d2c",
   "metadata": {},
   "outputs": [
    {
     "name": "stdout",
     "output_type": "stream",
     "text": [
      "CPU times: user 1.11 ms, sys: 402 µs, total: 1.52 ms\n",
      "Wall time: 1.14 ms\n"
     ]
    },
    {
     "data": {
      "text/plain": [
       "tensor([6., 6., 6., 6.])"
      ]
     },
     "execution_count": 70,
     "metadata": {},
     "output_type": "execute_result"
    }
   ],
   "source": [
    "%%time \n",
    "# time this cell\n",
    "torch.matmul(torch.ones(4,3), t.type(torch.float32))\n",
    "torch.ones(4,3) @ t.type(torch.float32) # also matrix mult"
   ]
  },
  {
   "cell_type": "code",
   "execution_count": 80,
   "id": "412718cb-de05-49e8-a421-7e4096b1b4df",
   "metadata": {},
   "outputs": [
    {
     "data": {
      "text/plain": [
       "tensor([[3., 3., 3., 3.],\n",
       "        [3., 3., 3., 3.],\n",
       "        [3., 3., 3., 3.],\n",
       "        [3., 3., 3., 3.]])"
      ]
     },
     "execution_count": 80,
     "metadata": {},
     "output_type": "execute_result"
    }
   ],
   "source": [
    "torch.matmul(torch.ones(3,4).T, t.type(torch.float32)) # transpose"
   ]
  },
  {
   "cell_type": "code",
   "execution_count": 108,
   "id": "45e49b8c-f794-413b-8660-ce3d203eb1fa",
   "metadata": {},
   "outputs": [
    {
     "data": {
      "text/plain": [
       "(torch.Size([10, 10, 3]),\n",
       " torch.Size([10, 10]),\n",
       " tensor(0.5192),\n",
       " tensor(155.7528))"
      ]
     },
     "execution_count": 108,
     "metadata": {},
     "output_type": "execute_result"
    }
   ],
   "source": [
    "random_image.shape, random_image.min(2).values.shape, random_image.mean(), random_image.sum()"
   ]
  },
  {
   "cell_type": "code",
   "execution_count": 117,
   "id": "3fea798f-15dd-4dd0-b62d-e5699e610e72",
   "metadata": {},
   "outputs": [
    {
     "data": {
      "text/plain": [
       "(tensor(0.5192), tensor(293))"
      ]
     },
     "execution_count": 117,
     "metadata": {},
     "output_type": "execute_result"
    }
   ],
   "source": [
    "random_image.mean(), random_image.argmin()"
   ]
  },
  {
   "cell_type": "code",
   "execution_count": 121,
   "id": "2aa5f040-7e3c-4e69-9e20-088d08beca46",
   "metadata": {},
   "outputs": [
    {
     "data": {
      "text/plain": [
       "(tensor([0., 1., 2., 3., 4., 5., 6., 7., 8., 9.]), torch.Size([10]))"
      ]
     },
     "execution_count": 121,
     "metadata": {},
     "output_type": "execute_result"
    }
   ],
   "source": [
    "tensor = torch.arange(10.)\n",
    "tensor, tensor.shape"
   ]
  },
  {
   "cell_type": "code",
   "execution_count": 130,
   "id": "ca58cf0b-fd64-41bc-b115-b7447b6982ae",
   "metadata": {},
   "outputs": [
    {
     "data": {
      "text/plain": [
       "(tensor([[0., 1.],\n",
       "         [2., 3.],\n",
       "         [4., 5.],\n",
       "         [6., 7.],\n",
       "         [8., 9.]]),\n",
       " torch.Size([5, 2]))"
      ]
     },
     "execution_count": 130,
     "metadata": {},
     "output_type": "execute_result"
    }
   ],
   "source": [
    "t_reshaped = tensor.reshape(1, 10)\n",
    "t_reshaped = tensor.reshape(5, 2)\n",
    "t_reshaped, t_reshaped.shape"
   ]
  },
  {
   "cell_type": "code",
   "execution_count": 133,
   "id": "b06e828c-5369-49f9-89e2-16594bfe0fe1",
   "metadata": {},
   "outputs": [
    {
     "data": {
      "text/plain": [
       "tensor([[0., 1., 2., 3., 4.],\n",
       "        [5., 6., 7., 8., 9.]])"
      ]
     },
     "execution_count": 133,
     "metadata": {},
     "output_type": "execute_result"
    }
   ],
   "source": [
    "# view shares the same memory with the origina tensor\n",
    "z = tensor.view(2,5)\n",
    "z"
   ]
  },
  {
   "cell_type": "code",
   "execution_count": 134,
   "id": "fd122c2e-2aa5-4023-b634-83dc20cab42f",
   "metadata": {},
   "outputs": [
    {
     "data": {
      "text/plain": [
       "tensor([0., 1., 2., 3., 4., 5., 6., 7., 8., 9.])"
      ]
     },
     "execution_count": 134,
     "metadata": {},
     "output_type": "execute_result"
    }
   ],
   "source": [
    "tensor"
   ]
  },
  {
   "cell_type": "code",
   "execution_count": 143,
   "id": "dc566d8b-758e-4375-90c4-94fd131f9eb4",
   "metadata": {},
   "outputs": [
    {
     "data": {
      "text/plain": [
       "tensor([[0., 0., 0., 0.],\n",
       "        [1., 1., 1., 1.],\n",
       "        [2., 2., 2., 2.],\n",
       "        [3., 3., 3., 3.],\n",
       "        [4., 4., 4., 4.],\n",
       "        [5., 5., 5., 5.],\n",
       "        [6., 6., 6., 6.],\n",
       "        [7., 7., 7., 7.],\n",
       "        [8., 8., 8., 8.],\n",
       "        [9., 9., 9., 9.]])"
      ]
     },
     "execution_count": 143,
     "metadata": {},
     "output_type": "execute_result"
    }
   ],
   "source": [
    "torch.stack([tensor, tensor, tensor, tensor], dim=1)"
   ]
  },
  {
   "cell_type": "code",
   "execution_count": 147,
   "id": "196788e8-f1df-4936-9b67-f9092d2f85df",
   "metadata": {},
   "outputs": [
    {
     "name": "stdout",
     "output_type": "stream",
     "text": [
      "torch.Size([10])\n",
      "torch.Size([1, 10])\n",
      "torch.Size([10])\n",
      "torch.Size([1, 10, 1])\n",
      "torch.Size([10])\n"
     ]
    }
   ],
   "source": [
    "# 'squeeze' removes all dimentions of size 1, 'unsqueeze' creates a new dimention of size 1\n",
    "print(tensor.shape)\n",
    "t1 = tensor.reshape(1, 10)\n",
    "print(t1.shape)\n",
    "print(t1.squeeze().shape)\n",
    "t2 = tensor.reshape(1, 10, 1)\n",
    "print(t2.shape)\n",
    "print(t2.squeeze().shape)"
   ]
  },
  {
   "cell_type": "code",
   "execution_count": 152,
   "id": "86b05801-1717-4d48-9b4d-e6c12715985c",
   "metadata": {},
   "outputs": [
    {
     "name": "stdout",
     "output_type": "stream",
     "text": [
      "torch.Size([10, 10, 3])\n",
      "torch.Size([3, 10, 10])\n"
     ]
    }
   ],
   "source": [
    "# 'permute'\n",
    "print(random_image.shape)\n",
    "print(random_image.permute([2,0,1]).shape)"
   ]
  },
  {
   "cell_type": "code",
   "execution_count": 163,
   "id": "42034e8f-968f-453c-9596-64153549208f",
   "metadata": {},
   "outputs": [
    {
     "name": "stdout",
     "output_type": "stream",
     "text": [
      "tensor([[[0, 1, 2],\n",
      "         [3, 4, 5],\n",
      "         [6, 7, 8]]])\n",
      "tensor([[0, 1, 2],\n",
      "        [3, 4, 5],\n",
      "        [6, 7, 8]])\n",
      "tensor([3, 4, 5])\n",
      "tensor([3, 4, 5])\n",
      "tensor(4)\n",
      "tensor([[1, 4, 7]])\n",
      "tensor([1, 4, 7])\n"
     ]
    }
   ],
   "source": [
    "tensor = torch.arange(9).reshape(1,3,3)\n",
    "print(tensor)\n",
    "print(tensor[0])\n",
    "print(tensor[0, 1])\n",
    "print(tensor[0][1])\n",
    "print(tensor[0,1,1])\n",
    "print(tensor[:,:,1]) # keeps the dim where ':' was used\n",
    "print(tensor[0][:,1]) \n",
    "# error - print(tensor[:][:][1])"
   ]
  },
  {
   "cell_type": "code",
   "execution_count": 170,
   "id": "db209c01-8003-4d85-8f89-5c31549ebfdc",
   "metadata": {},
   "outputs": [
    {
     "name": "stdout",
     "output_type": "stream",
     "text": [
      "[[[0 1 2]\n",
      "  [3 4 5]\n",
      "  [6 7 8]]]\n"
     ]
    },
    {
     "data": {
      "text/plain": [
       "tensor([[[0, 1, 2],\n",
       "         [3, 4, 5],\n",
       "         [6, 7, 8]]])"
      ]
     },
     "execution_count": 170,
     "metadata": {},
     "output_type": "execute_result"
    }
   ],
   "source": [
    "# torch <--> numpy, this can change the data type\n",
    "arr = tensor.numpy()\n",
    "print(arr)\n",
    "torch.from_numpy(arr)"
   ]
  },
  {
   "cell_type": "code",
   "execution_count": 174,
   "id": "7108481c-fb8f-4c55-ab42-467027004cce",
   "metadata": {},
   "outputs": [
    {
     "data": {
      "text/plain": [
       "tensor([[False, False],\n",
       "        [False, False]])"
      ]
     },
     "execution_count": 174,
     "metadata": {},
     "output_type": "execute_result"
    }
   ],
   "source": [
    "torch.manual_seed(1)\n",
    "a = torch.rand(2,2)\n",
    "b = torch.rand(2,2)\n",
    "a == b"
   ]
  },
  {
   "cell_type": "code",
   "execution_count": 179,
   "id": "5d27491d-0f6a-4df1-9267-db6971517ee6",
   "metadata": {},
   "outputs": [
    {
     "data": {
      "text/plain": [
       "tensor([[True, True],\n",
       "        [True, True]])"
      ]
     },
     "execution_count": 179,
     "metadata": {},
     "output_type": "execute_result"
    }
   ],
   "source": [
    "torch.manual_seed(1)\n",
    "c = torch.rand(2,2)\n",
    "d = torch.rand(2,2)\n",
    "(c == a) "
   ]
  },
  {
   "cell_type": "code",
   "execution_count": 180,
   "id": "6b23698c-4de0-4b3d-94e4-a661c6b445da",
   "metadata": {},
   "outputs": [
    {
     "data": {
      "text/plain": [
       "tensor([[True, True],\n",
       "        [True, True]])"
      ]
     },
     "execution_count": 180,
     "metadata": {},
     "output_type": "execute_result"
    }
   ],
   "source": [
    "(b==d)"
   ]
  },
  {
   "cell_type": "code",
   "execution_count": 181,
   "id": "99cc5db1-0f29-4db5-a915-ac4900c79baa",
   "metadata": {},
   "outputs": [
    {
     "data": {
      "text/plain": [
       "False"
      ]
     },
     "execution_count": 181,
     "metadata": {},
     "output_type": "execute_result"
    }
   ],
   "source": [
    "torch.cuda.is_available()"
   ]
  },
  {
   "cell_type": "code",
   "execution_count": 186,
   "id": "c409dbbc-3e43-4193-9dac-e8cb92297577",
   "metadata": {},
   "outputs": [],
   "source": [
    "b = a.to('cpu') # == a.cpu()"
   ]
  },
  {
   "cell_type": "code",
   "execution_count": 187,
   "id": "c0a6acea-a945-4f39-801a-b26dd28daffb",
   "metadata": {},
   "outputs": [
    {
     "name": "stdout",
     "output_type": "stream",
     "text": [
      "tensor([[1.7576, 1.2793],\n",
      "        [1.4031, 1.7347]])\n",
      "tensor([[2.7576, 2.2793],\n",
      "        [2.4031, 2.7347]])\n",
      "tensor([[2.7576, 2.2793],\n",
      "        [2.4031, 2.7347]])\n"
     ]
    }
   ],
   "source": [
    "print(a)\n",
    "a += 1\n",
    "print(a)\n",
    "print(b)"
   ]
  },
  {
   "cell_type": "code",
   "execution_count": null,
   "id": "57b9cf2e-4bfe-4edc-bbab-b256b978c394",
   "metadata": {},
   "outputs": [],
   "source": []
  }
 ],
 "metadata": {
  "kernelspec": {
   "display_name": "Python 3 (ipykernel)",
   "language": "python",
   "name": "python3"
  },
  "language_info": {
   "codemirror_mode": {
    "name": "ipython",
    "version": 3
   },
   "file_extension": ".py",
   "mimetype": "text/x-python",
   "name": "python",
   "nbconvert_exporter": "python",
   "pygments_lexer": "ipython3",
   "version": "3.9.6"
  }
 },
 "nbformat": 4,
 "nbformat_minor": 5
}
